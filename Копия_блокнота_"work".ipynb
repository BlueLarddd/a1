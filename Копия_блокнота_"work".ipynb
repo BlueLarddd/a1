{
  "cells": [
    {
      "cell_type": "markdown",
      "metadata": {
        "id": "view-in-github",
        "colab_type": "text"
      },
      "source": [
        "<a href=\"https://colab.research.google.com/github/BlueLarddd/a1/blob/main/%D0%9A%D0%BE%D0%BF%D0%B8%D1%8F_%D0%B1%D0%BB%D0%BE%D0%BA%D0%BD%D0%BE%D1%82%D0%B0_%22work%22.ipynb\" target=\"_parent\"><img src=\"https://colab.research.google.com/assets/colab-badge.svg\" alt=\"Open In Colab\"/></a>"
      ]
    },
    {
      "cell_type": "markdown",
      "metadata": {
        "id": "bBn5Wu0YSwwi"
      },
      "source": [
        "# Скачиваем нужные библиотеки"
      ]
    },
    {
      "cell_type": "code",
      "execution_count": null,
      "metadata": {
        "colab": {
          "base_uri": "https://localhost:8080/"
        },
        "id": "zknD7NPZaLPM",
        "outputId": "36e1f633-12a2-4eec-8f77-35a21ccf5538"
      },
      "outputs": [
        {
          "output_type": "stream",
          "name": "stdout",
          "text": [
            "Collecting patool\n",
            "  Downloading patool-2.0.0-py2.py3-none-any.whl (93 kB)\n",
            "\u001b[2K     \u001b[90m━━━━━━━━━━━━━━━━━━━━━━━━━━━━━━━━━━━━━━━━\u001b[0m \u001b[32m93.7/93.7 kB\u001b[0m \u001b[31m2.2 MB/s\u001b[0m eta \u001b[36m0:00:00\u001b[0m\n",
            "\u001b[?25hInstalling collected packages: patool\n",
            "Successfully installed patool-2.0.0\n"
          ]
        }
      ],
      "source": [
        "!pip install patool"
      ]
    },
    {
      "cell_type": "code",
      "execution_count": null,
      "metadata": {
        "colab": {
          "base_uri": "https://localhost:8080/"
        },
        "id": "J4xrRghMajKU",
        "outputId": "01c27ad3-c959-4032-c080-bbf132bae239"
      },
      "outputs": [
        {
          "output_type": "stream",
          "name": "stdout",
          "text": [
            "Requirement already satisfied: matplotlib in /usr/local/lib/python3.10/dist-packages (3.7.1)\n",
            "Requirement already satisfied: opencv-python in /usr/local/lib/python3.10/dist-packages (4.8.0.76)\n",
            "Requirement already satisfied: contourpy>=1.0.1 in /usr/local/lib/python3.10/dist-packages (from matplotlib) (1.2.0)\n",
            "Requirement already satisfied: cycler>=0.10 in /usr/local/lib/python3.10/dist-packages (from matplotlib) (0.12.1)\n",
            "Requirement already satisfied: fonttools>=4.22.0 in /usr/local/lib/python3.10/dist-packages (from matplotlib) (4.45.1)\n",
            "Requirement already satisfied: kiwisolver>=1.0.1 in /usr/local/lib/python3.10/dist-packages (from matplotlib) (1.4.5)\n",
            "Requirement already satisfied: numpy>=1.20 in /usr/local/lib/python3.10/dist-packages (from matplotlib) (1.23.5)\n",
            "Requirement already satisfied: packaging>=20.0 in /usr/local/lib/python3.10/dist-packages (from matplotlib) (23.2)\n",
            "Requirement already satisfied: pillow>=6.2.0 in /usr/local/lib/python3.10/dist-packages (from matplotlib) (9.4.0)\n",
            "Requirement already satisfied: pyparsing>=2.3.1 in /usr/local/lib/python3.10/dist-packages (from matplotlib) (3.1.1)\n",
            "Requirement already satisfied: python-dateutil>=2.7 in /usr/local/lib/python3.10/dist-packages (from matplotlib) (2.8.2)\n",
            "Requirement already satisfied: six>=1.5 in /usr/local/lib/python3.10/dist-packages (from python-dateutil>=2.7->matplotlib) (1.16.0)\n"
          ]
        }
      ],
      "source": [
        "!pip install matplotlib opencv-python"
      ]
    },
    {
      "cell_type": "markdown",
      "metadata": {
        "id": "juJmh8m8S_O1"
      },
      "source": [
        "# Загружаем датасет"
      ]
    },
    {
      "cell_type": "code",
      "execution_count": null,
      "metadata": {
        "colab": {
          "base_uri": "https://localhost:8080/"
        },
        "id": "TOg4v4pdaOBV",
        "outputId": "817410b4-d2f8-4bfc-cc39-42dc674a75fa"
      },
      "outputs": [
        {
          "output_type": "stream",
          "name": "stderr",
          "text": [
            "INFO patool: Extracting /content/symbols.rar ...\n",
            "INFO:patool:Extracting /content/symbols.rar ...\n",
            "INFO patool: running /usr/bin/unrar x -- /content/symbols.rar\n",
            "INFO:patool:running /usr/bin/unrar x -- /content/symbols.rar\n",
            "INFO patool:     with cwd='/content/extracted/', input=''\n",
            "INFO:patool:    with cwd='/content/extracted/', input=''\n",
            "INFO patool: ... /content/symbols.rar extracted to `/content/extracted/'.\n",
            "INFO:patool:... /content/symbols.rar extracted to `/content/extracted/'.\n"
          ]
        }
      ],
      "source": [
        "import requests\n",
        "from urllib.parse import urlencode\n",
        "import patoolib\n",
        "import os\n",
        "\n",
        "base_url = 'https://cloud-api.yandex.net/v1/disk/public/resources/download?'\n",
        "public_key = 'https://disk.yandex.ru/d/5cV2jxYlKA3GCQ'\n",
        "\n",
        "# Получаем загрузочную ссылку\n",
        "final_url = base_url + urlencode(dict(public_key=public_key))\n",
        "response = requests.get(final_url)\n",
        "download_url = response.json()['href']\n",
        "\n",
        "# Загружаем файл и сохраняем его\n",
        "download_response = requests.get(download_url)\n",
        "downloaded_file_path = '/content/symbols.rar'\n",
        "\n",
        "with open(downloaded_file_path, 'wb') as f:\n",
        "    f.write(download_response.content)\n",
        "\n",
        "# Разархивируем файл\n",
        "extracted_path = '/content/extracted/'\n",
        "\n",
        "# Проверяем, существует ли папка для распаковки, и создаем ее при необходимости\n",
        "if not os.path.exists(extracted_path):\n",
        "    os.makedirs(extracted_path)\n",
        "\n",
        "# Распаковываем скачанный архив\n",
        "patoolib.extract_archive(downloaded_file_path, outdir=extracted_path)\n",
        "\n",
        "# Удаляем изначальный архив\n",
        "os.remove(downloaded_file_path)"
      ]
    },
    {
      "cell_type": "code",
      "execution_count": null,
      "metadata": {
        "id": "4rDi3h3eaS3c"
      },
      "outputs": [],
      "source": [
        "import cv2\n",
        "import matplotlib.pyplot as plt"
      ]
    },
    {
      "cell_type": "code",
      "execution_count": null,
      "metadata": {
        "id": "CusRbDLGaVa8"
      },
      "outputs": [],
      "source": [
        "def preprocess_image(image_path):\n",
        "    # Загрузка изображения\n",
        "    img = cv2.imread(image_path)\n",
        "\n",
        "    # Изменение размера изображения\n",
        "    img = cv2.resize(img, (32, 32))\n",
        "\n",
        "    return img"
      ]
    },
    {
      "cell_type": "code",
      "execution_count": null,
      "metadata": {
        "id": "vFOJlc_UaWEs"
      },
      "outputs": [],
      "source": [
        "def show_images(original, preprocessed, title1='Original Image', title2='Preprocessed Image'):\n",
        "    plt.subplot(1, 2, 1)\n",
        "    plt.imshow(original, cmap='gray')\n",
        "    plt.title(title1)\n",
        "    plt.axis('off')\n",
        "\n",
        "    plt.subplot(1, 2, 2)\n",
        "    plt.imshow(preprocessed, cmap='gray')\n",
        "    plt.title(title2)\n",
        "    plt.axis('off')\n",
        "\n",
        "    plt.show()"
      ]
    },
    {
      "cell_type": "markdown",
      "metadata": {
        "id": "MdpFQao0TM9A"
      },
      "source": [
        "# Находим объект на изображении"
      ]
    },
    {
      "cell_type": "code",
      "execution_count": null,
      "metadata": {
        "id": "I_mnS-2baYWc"
      },
      "outputs": [],
      "source": [
        "def resize_and_center_crop(image_path, target_size=(55, 55)):\n",
        "    # Загрузка изображения\n",
        "    img = cv2.imread(image_path, cv2.IMREAD_GRAYSCALE)\n",
        "\n",
        "    # Применение адаптивного выравнивания гистограммы или других шагов предобработки по желанию\n",
        "    # ...\n",
        "\n",
        "    # Применение фильтра для выделения контуров\n",
        "    edged = cv2.Canny(img, threshold1=30, threshold2=100)\n",
        "\n",
        "    # Нахождение контуров в изображении\n",
        "    contours, _ = cv2.findContours(edged, cv2.RETR_EXTERNAL, cv2.CHAIN_APPROX_SIMPLE)\n",
        "\n",
        "    if contours:\n",
        "        # Выбираем самый большой контур\n",
        "        largest_contour = max(contours, key=cv2.contourArea)\n",
        "\n",
        "        # Получаем ограничивающий прямоугольник вокруг контура\n",
        "        x, y, w, h = cv2.boundingRect(largest_contour)\n",
        "\n",
        "        # Рассчитываем центр ограничивающего прямоугольника\n",
        "        center_x = x + w // 2\n",
        "        center_y = y + h // 2\n",
        "\n",
        "        # Рассчитываем координаты для обрезки изображения\n",
        "        left = max(0, center_x - target_size[0] // 2)\n",
        "        top = max(0, center_y - target_size[1] // 2)\n",
        "        right = min(img.shape[1], center_x + target_size[0] // 2)\n",
        "        bottom = min(img.shape[0], center_y + target_size[1] // 2)\n",
        "\n",
        "        # Обрезаем изображение согласно координатам\n",
        "        cropped_img = img[top:bottom, left:right]\n",
        "\n",
        "        # Нормализация значений пикселей\n",
        "        cropped_img = cropped_img / 255.0\n",
        "\n",
        "        # Изменение размера до целевых размеров\n",
        "        cropped_img = cv2.resize(cropped_img, target_size, interpolation=cv2.INTER_AREA)\n",
        "\n",
        "        return cropped_img\n",
        "\n",
        "    else:\n",
        "        print(f\"Контуры не найдены {image_path}.\")\n",
        "        return None"
      ]
    },
    {
      "cell_type": "code",
      "execution_count": null,
      "metadata": {
        "colab": {
          "base_uri": "https://localhost:8080/",
          "height": 414
        },
        "id": "H8i4tmCwc_PE",
        "outputId": "91ba0f8d-cf69-482f-eb0d-1f251f5aa4c8"
      },
      "outputs": [
        {
          "output_type": "display_data",
          "data": {
            "text/plain": [
              "<Figure size 640x480 with 2 Axes>"
            ],
            "image/png": "[encoded data removed]"
          },
          "metadata": {}
        },
        {
          "output_type": "stream",
          "name": "stdout",
          "text": [
            "(55, 55)\n"
          ]
        }
      ],
      "source": [
        "image_path = \"/content/extracted/3/15.bmp\"\n",
        "cropped_image = resize_and_center_crop(image_path)\n",
        "\n",
        "# Вывод оригинального и обрезанного изображений\n",
        "show_images(cv2.imread(image_path, cv2.IMREAD_GRAYSCALE), cropped_image)\n",
        "\n",
        "print(cropped_image.shape)"
      ]
    },
    {
      "cell_type": "markdown",
      "metadata": {
        "id": "Rw3Cw5LdeL0O"
      },
      "source": [
        "# Кропаем все фото в датасете"
      ]
    },
    {
      "cell_type": "code",
      "execution_count": null,
      "metadata": {
        "colab": {
          "base_uri": "https://localhost:8080/"
        },
        "id": "krH7RBW_eOCl",
        "outputId": "c061a771-430b-41df-edaf-6bc0aac925b0"
      },
      "outputs": [
        {
          "output_type": "stream",
          "name": "stdout",
          "text": [
            "Контуры не найдены /content/extracted/negative/_694.bmp.\n",
            "Контуры не найдены /content/extracted/negative/_585.bmp.\n",
            "Контуры не найдены /content/extracted/negative/_763.bmp.\n",
            "Контуры не найдены /content/extracted/negative/23113418.bmp.\n",
            "Контуры не найдены /content/extracted/negative/_610.bmp.\n",
            "Контуры не найдены /content/extracted/negative/_685.bmp.\n",
            "Контуры не найдены /content/extracted/negative/14912346.bmp.\n",
            "Контуры не найдены /content/extracted/negative/415 (2).bmp.\n",
            "Контуры не найдены /content/extracted/negative/_496.bmp.\n",
            "Контуры не найдены /content/extracted/negative/355.bmp.\n",
            "Контуры не найдены /content/extracted/negative/_589.bmp.\n",
            "Контуры не найдены /content/extracted/negative/_422.bmp.\n",
            "Контуры не найдены /content/extracted/negative/25313517.bmp.\n",
            "Контуры не найдены /content/extracted/negative/33613731.bmp.\n",
            "Контуры не найдены /content/extracted/negative/_707.bmp.\n",
            "Контуры не найдены /content/extracted/negative/23713433.bmp.\n",
            "Контуры не найдены /content/extracted/negative/1501242.bmp.\n",
            "Контуры не найдены /content/extracted/negative/_692.bmp.\n",
            "Контуры не найдены /content/extracted/negative/_95.bmp.\n",
            "Контуры не найдены /content/extracted/negative/_308.bmp.\n",
            "Контуры не найдены /content/extracted/negative/_698.bmp.\n",
            "Контуры не найдены /content/extracted/negative/_93.bmp.\n",
            "Контуры не найдены /content/extracted/negative/_587.bmp.\n",
            "Контуры не найдены /content/extracted/negative/_611.bmp.\n",
            "Контуры не найдены /content/extracted/negative/_342.bmp.\n",
            "Контуры не найдены /content/extracted/negative/_702.bmp.\n"
          ]
        }
      ],
      "source": [
        "# Папка, где хранятся изображения\n",
        "base_folder = \"/content/extracted\"\n",
        "\n",
        "# Функция для обрезки и перезаписи изображений\n",
        "def process_images(folder_path):\n",
        "    for filename in os.listdir(folder_path):\n",
        "        file_path = os.path.join(folder_path, filename)\n",
        "\n",
        "        if os.path.isfile(file_path):\n",
        "            # Игнорируем файлы, не являющиеся изображениями\n",
        "            if not filename.lower().endswith(('.bmp')):\n",
        "                continue\n",
        "\n",
        "            # Обрезаем изображение\n",
        "            cropped_image = resize_and_center_crop(file_path)\n",
        "\n",
        "            if cropped_image is not None:\n",
        "                # Перезаписываем изображение в оригинальную папку\n",
        "                cv2.imwrite(file_path, cropped_image * 255)  # Умножаем на 255 для сохранения в формате изображения (0-255)\n",
        "\n",
        "# Перебираем все папки в базовой папке\n",
        "for subfolder in os.listdir(base_folder):\n",
        "    subfolder_path = os.path.join(base_folder, subfolder)\n",
        "\n",
        "    if os.path.isdir(subfolder_path):\n",
        "        # Обрабатываем изображения в каждой подпапке\n",
        "        process_images(subfolder_path)"
      ]
    },
    {
      "cell_type": "markdown",
      "metadata": {
        "id": "2z4vRF6tihpD"
      },
      "source": [
        "# Архитектура нейронки для распознавания символов"
      ]
    },
    {
      "cell_type": "code",
      "execution_count": null,
      "metadata": {
        "id": "_Ite3JgDifzz",
        "colab": {
          "base_uri": "https://localhost:8080/"
        },
        "outputId": "953d2cfa-9718-4eb3-ff20-14873089dff9"
      },
      "outputs": [
        {
          "output_type": "stream",
          "name": "stdout",
          "text": [
            "Requirement already satisfied: torch in /usr/local/lib/python3.10/dist-packages (2.1.0+cu118)\n",
            "Requirement already satisfied: torchvision in /usr/local/lib/python3.10/dist-packages (0.16.0+cu118)\n",
            "Requirement already satisfied: filelock in /usr/local/lib/python3.10/dist-packages (from torch) (3.13.1)\n",
            "Requirement already satisfied: typing-extensions in /usr/local/lib/python3.10/dist-packages (from torch) (4.5.0)\n",
            "Requirement already satisfied: sympy in /usr/local/lib/python3.10/dist-packages (from torch) (1.12)\n",
            "Requirement already satisfied: networkx in /usr/local/lib/python3.10/dist-packages (from torch) (3.2.1)\n",
            "Requirement already satisfied: jinja2 in /usr/local/lib/python3.10/dist-packages (from torch) (3.1.2)\n",
            "Requirement already satisfied: fsspec in /usr/local/lib/python3.10/dist-packages (from torch) (2023.6.0)\n",
            "Requirement already satisfied: triton==2.1.0 in /usr/local/lib/python3.10/dist-packages (from torch) (2.1.0)\n",
            "Requirement already satisfied: numpy in /usr/local/lib/python3.10/dist-packages (from torchvision) (1.23.5)\n",
            "Requirement already satisfied: requests in /usr/local/lib/python3.10/dist-packages (from torchvision) (2.31.0)\n",
            "Requirement already satisfied: pillow!=8.3.*,>=5.3.0 in /usr/local/lib/python3.10/dist-packages (from torchvision) (9.4.0)\n",
            "Requirement already satisfied: MarkupSafe>=2.0 in /usr/local/lib/python3.10/dist-packages (from jinja2->torch) (2.1.3)\n",
            "Requirement already satisfied: charset-normalizer<4,>=2 in /usr/local/lib/python3.10/dist-packages (from requests->torchvision) (3.3.2)\n",
            "Requirement already satisfied: idna<4,>=2.5 in /usr/local/lib/python3.10/dist-packages (from requests->torchvision) (3.6)\n",
            "Requirement already satisfied: urllib3<3,>=1.21.1 in /usr/local/lib/python3.10/dist-packages (from requests->torchvision) (2.0.7)\n",
            "Requirement already satisfied: certifi>=2017.4.17 in /usr/local/lib/python3.10/dist-packages (from requests->torchvision) (2023.11.17)\n",
            "Requirement already satisfied: mpmath>=0.19 in /usr/local/lib/python3.10/dist-packages (from sympy->torch) (1.3.0)\n"
          ]
        }
      ],
      "source": [
        "!pip install torch torchvision"
      ]
    },
    {
      "cell_type": "code",
      "execution_count": null,
      "metadata": {
        "id": "aBQk6wpfingU"
      },
      "outputs": [],
      "source": [
        "import torch.nn as nn\n",
        "import torch.nn.functional as F\n",
        "\n",
        "class CustomCNN(nn.Module):\n",
        "    def __init__(self, num_classes=22):\n",
        "        super(CustomCNN, self).__init__()\n",
        "\n",
        "        # Сверточные слои\n",
        "        self.conv1 = nn.Conv2d(1, 32, kernel_size=3, stride=1, padding=1)\n",
        "        self.conv2 = nn.Conv2d(32, 64, kernel_size=3, stride=1, padding=1)\n",
        "        self.conv3 = nn.Conv2d(64, 128, kernel_size=3, stride=1, padding=1)\n",
        "\n",
        "        # Слои объединения (pooling)\n",
        "        self.pool = nn.MaxPool2d(kernel_size=2, stride=2, padding=0)\n",
        "\n",
        "        # Полносвязанные слои\n",
        "        self.fc1 = nn.Linear(128 * 6 * 6, 512)\n",
        "        self.fc2 = nn.Linear(512, num_classes)\n",
        "\n",
        "    def forward(self, x):\n",
        "        # Проход через сверточные слои\n",
        "        x = self.pool(F.relu(self.conv1(x)))\n",
        "        x = self.pool(F.relu(self.conv2(x)))\n",
        "        x = self.pool(F.relu(self.conv3(x)))\n",
        "\n",
        "        # Разворачиваем тензор перед подачей на полносвязанные слои\n",
        "        x = x.view(-1, 128 * 6 * 6)\n",
        "\n",
        "        # Проход через полносвязанные слои\n",
        "        x = F.relu(self.fc1(x))\n",
        "        x = self.fc2(x)\n",
        "\n",
        "        return x\n",
        "\n",
        "# Инициализация модели\n",
        "model = CustomCNN()"
      ]
    },
    {
      "cell_type": "markdown",
      "metadata": {
        "id": "hKn1D-qbi5zd"
      },
      "source": [
        "# Загрузчик данных"
      ]
    },
    {
      "cell_type": "code",
      "execution_count": null,
      "metadata": {
        "id": "kdZKt2Zpk4TR"
      },
      "outputs": [],
      "source": [
        "!cd  /content/extracted && rm -rf `find -type d -name .ipynb_checkpoints`"
      ]
    },
    {
      "cell_type": "code",
      "execution_count": null,
      "metadata": {
        "id": "TNzUw8doi7UG"
      },
      "outputs": [],
      "source": [
        "import torch\n",
        "import torch.nn as nn\n",
        "import torch.optim as optim\n",
        "import torch.nn.functional as F\n",
        "import torchvision.transforms as transforms\n",
        "from torch.utils.data import DataLoader\n",
        "from torchvision.datasets import ImageFolder\n",
        "from sklearn.model_selection import train_test_split\n",
        "\n",
        "# Предполагается, что ваш датасет находится в папке 'extracted'\n",
        "dataset_path = '/content/extracted'\n",
        "\n",
        "# Задаем преобразования для изображений\n",
        "transform = transforms.Compose([\n",
        "    transforms.Grayscale(num_output_channels=1),\n",
        "    transforms.Resize((55, 55)),\n",
        "    transforms.ToTensor(),\n",
        "])\n",
        "\n",
        "# Создаем DataLoader для обучающего датасета\n",
        "train_dataset = ImageFolder(dataset_path, transform=transform)\n",
        "\n",
        "# Добавим преобразование для получения меток в виде числовых значений\n",
        "class_to_idx = train_dataset.class_to_idx\n",
        "idx_to_class = {i: class_name for class_name, i in class_to_idx.items()}\n",
        "\n",
        "# Разделим датасет на обучающую и валидационную выборки\n",
        "train_indices, val_indices = train_test_split(list(range(len(train_dataset))), test_size=0.2, random_state=42)\n",
        "\n",
        "train_sampler = torch.utils.data.SubsetRandomSampler(train_indices)\n",
        "val_sampler = torch.utils.data.SubsetRandomSampler(val_indices)\n",
        "\n",
        "train_loader = DataLoader(train_dataset, batch_size=32, sampler=train_sampler)\n",
        "val_loader = DataLoader(train_dataset, batch_size=32, sampler=val_sampler)\n",
        "\n",
        "# Определяем функцию потерь и оптимизатор\n",
        "model = CustomCNN(num_classes=len(class_to_idx))\n",
        "criterion = nn.CrossEntropyLoss()\n",
        "optimizer = optim.Adam(model.parameters(), lr=0.001)"
      ]
    },
    {
      "cell_type": "markdown",
      "metadata": {
        "id": "5gv6VpzHneni"
      },
      "source": [
        "# Обучение и валидация модели"
      ]
    },
    {
      "cell_type": "code",
      "execution_count": null,
      "metadata": {
        "id": "j2FrGDI4neMy",
        "colab": {
          "base_uri": "https://localhost:8080/"
        },
        "outputId": "946ad3ba-9b8b-46d0-d648-b4b87451cd9e"
      },
      "outputs": [
        {
          "output_type": "stream",
          "name": "stdout",
          "text": [
            "Epoch 1/3, Train Loss: 0.31213229898552025\n",
            "Epoch 1/3, Validation Loss: 0.10524680902217996, Accuracy: 97.27615965480044%\n",
            "Epoch 2/3, Train Loss: 0.08665610004510231\n",
            "Epoch 2/3, Validation Loss: 0.10140337742431539, Accuracy: 97.6537216828479%\n",
            "Epoch 3/3, Train Loss: 0.05645612324992569\n",
            "Epoch 3/3, Validation Loss: 0.06904805285288101, Accuracy: 98.35490830636462%\n"
          ]
        }
      ],
      "source": [
        "# Обучение модели\n",
        "num_epochs = 3\n",
        "\n",
        "for epoch in range(num_epochs):\n",
        "    model.train()\n",
        "    total_loss = 0\n",
        "\n",
        "    for images, labels in train_loader:\n",
        "        optimizer.zero_grad()\n",
        "\n",
        "        # Передаем изображения в нейронную сеть\n",
        "        outputs = model(images)\n",
        "\n",
        "        # Вычисляем функцию потерь\n",
        "        loss = criterion(outputs, labels)\n",
        "\n",
        "        # Обратное распространение и оптимизация\n",
        "        loss.backward()\n",
        "        optimizer.step()\n",
        "\n",
        "        total_loss += loss.item()\n",
        "\n",
        "    print(f'Epoch {epoch+1}/{num_epochs}, Train Loss: {total_loss/len(train_loader)}')\n",
        "\n",
        "    # Валидация модели\n",
        "    model.eval()\n",
        "    val_loss = 0\n",
        "    correct = 0\n",
        "    total = 0\n",
        "\n",
        "    with torch.no_grad():\n",
        "        for images, labels in val_loader:\n",
        "            # Передаем изображения в нейронную сеть\n",
        "            outputs = model(images)\n",
        "\n",
        "            # Вычисляем функцию потерь\n",
        "            loss = criterion(outputs, labels)\n",
        "            val_loss += loss.item()\n",
        "\n",
        "            _, predicted = torch.max(outputs.data, 1)\n",
        "            total += labels.size(0)\n",
        "            correct += (predicted == labels).sum().item()\n",
        "\n",
        "    print(f'Epoch {epoch+1}/{num_epochs}, Validation Loss: {val_loss/len(val_loader)}, Accuracy: {100 * correct / total}%')\n",
        "\n"
      ]
    },
    {
      "cell_type": "markdown",
      "metadata": {
        "id": "3377DIXTSejt"
      },
      "source": [
        "# Сохраняем весовые коэффициенты"
      ]
    },
    {
      "cell_type": "code",
      "execution_count": null,
      "metadata": {
        "id": "cD08iTtRJYkg"
      },
      "outputs": [],
      "source": [
        "torch.save(model.state_dict(), '/content/weights.pth')"
      ]
    },
    {
      "cell_type": "markdown",
      "metadata": {
        "id": "B87EvX8hSr2y"
      },
      "source": [
        "# Проверка работоспособности"
      ]
    },
    {
      "cell_type": "code",
      "execution_count": null,
      "metadata": {
        "id": "x-aowZ9EJk6-",
        "colab": {
          "base_uri": "https://localhost:8080/",
          "height": 373
        },
        "outputId": "497b9727-e36a-483a-cbab-5738611c9014"
      },
      "outputs": [
        {
          "output_type": "error",
          "ename": "FileNotFoundError",
          "evalue": "ignored",
          "traceback": [
            "\u001b[0;31m---------------------------------------------------------------------------\u001b[0m",
            "\u001b[0;31mFileNotFoundError\u001b[0m                         Traceback (most recent call last)",
            "\u001b[0;32m<ipython-input-16-37356485b2c8>\u001b[0m in \u001b[0;36m<cell line: 36>\u001b[0;34m()\u001b[0m\n\u001b[1;32m     34\u001b[0m \u001b[0;31m# Пример использования\u001b[0m\u001b[0;34m\u001b[0m\u001b[0;34m\u001b[0m\u001b[0m\n\u001b[1;32m     35\u001b[0m \u001b[0mimage_path\u001b[0m \u001b[0;34m=\u001b[0m \u001b[0;34m'/content/A.jpg'\u001b[0m\u001b[0;34m\u001b[0m\u001b[0;34m\u001b[0m\u001b[0m\n\u001b[0;32m---> 36\u001b[0;31m \u001b[0mpredicted_class\u001b[0m \u001b[0;34m=\u001b[0m \u001b[0mpredict_image\u001b[0m\u001b[0;34m(\u001b[0m\u001b[0mimage_path\u001b[0m\u001b[0;34m)\u001b[0m\u001b[0;34m\u001b[0m\u001b[0;34m\u001b[0m\u001b[0m\n\u001b[0m\u001b[1;32m     37\u001b[0m \u001b[0mprint\u001b[0m\u001b[0;34m(\u001b[0m\u001b[0;34mf'The predicted class is: {predicted_class}'\u001b[0m\u001b[0;34m)\u001b[0m\u001b[0;34m\u001b[0m\u001b[0;34m\u001b[0m\u001b[0m\n",
            "\u001b[0;32m<ipython-input-16-37356485b2c8>\u001b[0m in \u001b[0;36mpredict_image\u001b[0;34m(image_path)\u001b[0m\n\u001b[1;32m      4\u001b[0m \u001b[0;32mdef\u001b[0m \u001b[0mpredict_image\u001b[0m\u001b[0;34m(\u001b[0m\u001b[0mimage_path\u001b[0m\u001b[0;34m)\u001b[0m\u001b[0;34m:\u001b[0m\u001b[0;34m\u001b[0m\u001b[0;34m\u001b[0m\u001b[0m\n\u001b[1;32m      5\u001b[0m     \u001b[0;31m# Загрузка изображения и применение трансформаций\u001b[0m\u001b[0;34m\u001b[0m\u001b[0;34m\u001b[0m\u001b[0m\n\u001b[0;32m----> 6\u001b[0;31m     \u001b[0mimage\u001b[0m \u001b[0;34m=\u001b[0m \u001b[0mImage\u001b[0m\u001b[0;34m.\u001b[0m\u001b[0mopen\u001b[0m\u001b[0;34m(\u001b[0m\u001b[0mimage_path\u001b[0m\u001b[0;34m)\u001b[0m\u001b[0;34m.\u001b[0m\u001b[0mconvert\u001b[0m\u001b[0;34m(\u001b[0m\u001b[0;34m'L'\u001b[0m\u001b[0;34m)\u001b[0m  \u001b[0;31m# 'L' означает оттенки серого\u001b[0m\u001b[0;34m\u001b[0m\u001b[0;34m\u001b[0m\u001b[0m\n\u001b[0m\u001b[1;32m      7\u001b[0m     transform = transforms.Compose([\n\u001b[1;32m      8\u001b[0m         \u001b[0mtransforms\u001b[0m\u001b[0;34m.\u001b[0m\u001b[0mResize\u001b[0m\u001b[0;34m(\u001b[0m\u001b[0;34m(\u001b[0m\u001b[0;36m55\u001b[0m\u001b[0;34m,\u001b[0m \u001b[0;36m55\u001b[0m\u001b[0;34m)\u001b[0m\u001b[0;34m)\u001b[0m\u001b[0;34m,\u001b[0m\u001b[0;34m\u001b[0m\u001b[0;34m\u001b[0m\u001b[0m\n",
            "\u001b[0;32m/usr/local/lib/python3.10/dist-packages/PIL/Image.py\u001b[0m in \u001b[0;36mopen\u001b[0;34m(fp, mode, formats)\u001b[0m\n\u001b[1;32m   3225\u001b[0m \u001b[0;34m\u001b[0m\u001b[0m\n\u001b[1;32m   3226\u001b[0m     \u001b[0;32mif\u001b[0m \u001b[0mfilename\u001b[0m\u001b[0;34m:\u001b[0m\u001b[0;34m\u001b[0m\u001b[0;34m\u001b[0m\u001b[0m\n\u001b[0;32m-> 3227\u001b[0;31m         \u001b[0mfp\u001b[0m \u001b[0;34m=\u001b[0m \u001b[0mbuiltins\u001b[0m\u001b[0;34m.\u001b[0m\u001b[0mopen\u001b[0m\u001b[0;34m(\u001b[0m\u001b[0mfilename\u001b[0m\u001b[0;34m,\u001b[0m \u001b[0;34m\"rb\"\u001b[0m\u001b[0;34m)\u001b[0m\u001b[0;34m\u001b[0m\u001b[0;34m\u001b[0m\u001b[0m\n\u001b[0m\u001b[1;32m   3228\u001b[0m         \u001b[0mexclusive_fp\u001b[0m \u001b[0;34m=\u001b[0m \u001b[0;32mTrue\u001b[0m\u001b[0;34m\u001b[0m\u001b[0;34m\u001b[0m\u001b[0m\n\u001b[1;32m   3229\u001b[0m \u001b[0;34m\u001b[0m\u001b[0m\n",
            "\u001b[0;31mFileNotFoundError\u001b[0m: [Errno 2] No such file or directory: '/content/A.jpg'"
          ]
        }
      ],
      "source": [
        "import numpy as np\n",
        "from PIL import Image\n",
        "\n",
        "def predict_image(image_path):\n",
        "    # Загрузка изображения и применение трансформаций\n",
        "    image = Image.open(image_path).convert('L')  # 'L' означает оттенки серого\n",
        "    transform = transforms.Compose([\n",
        "        transforms.Resize((55, 55)),\n",
        "        transforms.ToTensor(),\n",
        "    ])\n",
        "    image = transform(image).unsqueeze(0)  # Добавляем размерность батча\n",
        "\n",
        "    # Переводим модель в режим оценки (не обучения)\n",
        "    model.eval()\n",
        "\n",
        "    # Передаем изображение в модель для предсказания\n",
        "    with torch.no_grad():\n",
        "        output = model(image)\n",
        "\n",
        "    # Получаем предсказанный класс\n",
        "    _, predicted_class = torch.max(output, 1)\n",
        "\n",
        "    # Возвращаем название класса\n",
        "    predicted_class_name = idx_to_class[predicted_class.item()]\n",
        "\n",
        "    # Преобразуем тензор изображения обратно в изображение\n",
        "    image_np = np.array(image.squeeze(0).permute(1, 2, 0))\n",
        "    image_np = np.clip(image_np, 0, 1)  # Ограничиваем значения пикселей от 0 до 1\n",
        "    # Выводим изображение и результат\n",
        "    plt.imshow(image_np, cmap='gray')\n",
        "    plt.title(f'Predicted Class: {predicted_class_name}')\n",
        "    plt.show()\n",
        "\n",
        "# Пример использования\n",
        "image_path = '/content/A.jpg'\n",
        "predicted_class = predict_image(image_path)\n",
        "print(f'The predicted class is: {predicted_class}')"
      ]
    },
    {
      "cell_type": "markdown",
      "metadata": {
        "id": "RiaIu7fpbUP-"
      },
      "source": [
        "Средний размер изображения в датасете"
      ]
    },
    {
      "cell_type": "code",
      "execution_count": null,
      "metadata": {
        "id": "IeEkzBxbcmWA"
      },
      "outputs": [],
      "source": [
        "import os\n",
        "import cv2\n",
        "\n",
        "def find_average_image_size(dataset_path):\n",
        "    total_width = 0\n",
        "    total_height = 0\n",
        "    num_images = 0\n",
        "\n",
        "    # Проход по всем изображениям в директории датасета\n",
        "    for root, dirs, files in os.walk(dataset_path):\n",
        "        for file in files:\n",
        "            if file.endswith(('.bmp', '.jpg', '.jpeg')):\n",
        "                # Формируем полный путь к изображению\n",
        "                image_path = os.path.join(root, file)\n",
        "\n",
        "                # Загружаем изображение и получаем его размеры\n",
        "                img = cv2.imread(image_path, cv2.IMREAD_GRAYSCALE)\n",
        "                height, width = img.shape[:2]\n",
        "\n",
        "                # Обновляем суммы размеров\n",
        "                total_width += width\n",
        "                total_height += height\n",
        "                num_images += 1\n",
        "\n",
        "    # Вычисляем средние размеры\n",
        "    if num_images > 0:\n",
        "        average_width = total_width / num_images\n",
        "        average_height = total_height / num_images\n",
        "        return average_width, average_height\n",
        "    else:\n",
        "        return 0, 0\n",
        "\n",
        "# Пример использования:\n",
        "dataset_path = \"/content/extracted\"\n",
        "average_width, average_height = find_average_image_size(dataset_path)\n",
        "\n",
        "print(f\"Средние размеры изображений в датасете: {average_width} x {average_height}\")"
      ]
    },
    {
      "cell_type": "markdown",
      "metadata": {
        "id": "gSgbFYwZT5or"
      },
      "source": [
        "# Наша предобученная модель"
      ]
    },
    {
      "cell_type": "code",
      "execution_count": null,
      "metadata": {
        "id": "N8RxIFQpT-Xb"
      },
      "outputs": [],
      "source": [
        "import torch\n",
        "import torchvision.transforms as transforms\n",
        "\n",
        "\n",
        "# путь к файлу с весами модели\n",
        "weights_path = '/content/weights.pth'\n",
        "\n",
        "# экземпляр модели с аналогичной архитектурой\n",
        "loaded_model = CustomCNN()\n",
        "\n",
        "# загружаем веса\n",
        "loaded_model.load_state_dict(torch.load(weights_path))\n",
        "\n",
        "# переводим модель в режим оценки\n",
        "loaded_model.eval()"
      ]
    },
    {
      "cell_type": "code",
      "execution_count": null,
      "metadata": {
        "id": "BjsGJdPgUoF6"
      },
      "outputs": [],
      "source": [
        "import numpy as np\n",
        "from PIL import Image\n",
        "\n",
        "def predict_image(image_path):\n",
        "    # Загрузка изображения и применение трансформаций\n",
        "    image = Image.open(image_path).convert('L')  # 'L' означает оттенки серого\n",
        "    transform = transforms.Compose([\n",
        "        transforms.Resize((55, 55)),\n",
        "        transforms.ToTensor(),\n",
        "    ])\n",
        "    image = transform(image).unsqueeze(0)  # Добавляем размерность батча\n",
        "\n",
        "    # Переводим модель в режим оценки (не обучения)\n",
        "    loaded_model.eval()\n",
        "\n",
        "    # Передаем изображение в модель для предсказания\n",
        "    with torch.no_grad():\n",
        "        output = loaded_model(image)\n",
        "\n",
        "    # Получаем предсказанный класс\n",
        "    _, predicted_class = torch.max(output, 1)\n",
        "\n",
        "    # Возвращаем название класса\n",
        "    predicted_class_name = idx_to_class[predicted_class.item()]\n",
        "\n",
        "    # Преобразуем тензор изображения обратно в изображение\n",
        "    image_np = np.array(image.squeeze(0).permute(1, 2, 0))\n",
        "    image_np = np.clip(image_np, 0, 1)  # Ограничиваем значения пикселей от 0 до 1\n",
        "    # Выводим изображение и результат\n",
        "    plt.imshow(image_np, cmap='gray')\n",
        "    plt.title(f'Predicted Class: {predicted_class_name}')\n",
        "    plt.show()\n",
        "\n",
        "# Пример использования\n",
        "image_path = '/content/A.jpg'\n",
        "predicted_class = predict_image(image_path)\n",
        "print(f'The predicted class is: {predicted_class}')"
      ]
    },
    {
      "cell_type": "markdown",
      "source": [
        "# Выделение номера авто на изображении"
      ],
      "metadata": {
        "id": "Uq6KId3c06v_"
      }
    },
    {
      "cell_type": "code",
      "source": [
        "import cv2\n",
        "from google.colab.patches import cv2_imshow\n",
        "import numpy as np\n",
        "\n",
        "\n",
        "def detecting_plate(image_path, new_path):\n",
        "  # Загрузка изображения\n",
        "  image = cv2.imread(image_path)\n",
        "\n",
        "  # Загрузка предварительно обученного детектора\n",
        "  cascade_path = '/content/haarcascade_russian_plate_number.xml'\n",
        "  plate_cascade = cv2.CascadeClassifier(cascade_path)\n",
        "\n",
        "  # Преобразование в оттенки серого\n",
        "  gray = cv2.cvtColor(image, cv2.COLOR_BGR2GRAY)\n",
        "\n",
        "  # Детекция номера\n",
        "  plates = plate_cascade.detectMultiScale(gray, scaleFactor=1.05, minNeighbors=7, minSize=(30, 30))\n",
        "\n",
        "  # Находим самый большой номер\n",
        "  largest_plate = None\n",
        "  largest_area = 0\n",
        "\n",
        "  for (x, y, w, h) in plates:\n",
        "      # Вычисляем площадь\n",
        "      area = w * h\n",
        "\n",
        "      # Если текущий номер больше предыдущего самого большого\n",
        "      if area > largest_area:\n",
        "          largest_area = area\n",
        "          largest_plate = (x, y, w, h)\n",
        "\n",
        "  # Если найден номер, обрезаем изображение\n",
        "  if largest_plate is not None:\n",
        "      x, y, w, h = largest_plate\n",
        "      cropped_plate = image[y:y+h, x:x+w]\n",
        "\n",
        "      # Преобразование в оттенки серого\n",
        "      gray_cropped = cv2.cvtColor(cropped_plate, cv2.COLOR_BGR2GRAY)\n",
        "\n",
        "      # Применение адаптивной бинаризации\n",
        "      _, thresh = cv2.threshold(gray_cropped, 0, 255, cv2.THRESH_BINARY + cv2.THRESH_OTSU)\n",
        "\n",
        "      # Применение морфологических операций\n",
        "      kernel = np.ones((5, 5), np.uint8)\n",
        "      thresh = cv2.morphologyEx(thresh, cv2.MORPH_CLOSE, kernel)\n",
        "      thresh = cv2.morphologyEx(thresh, cv2.MORPH_OPEN, kernel)\n",
        "\n",
        "      # Детекция контуров\n",
        "      contours, _ = cv2.findContours(thresh, cv2.RETR_EXTERNAL, cv2.CHAIN_APPROX_SIMPLE)\n",
        "\n",
        "      # Находим контур с максимальной длиной\n",
        "      largest_contour = max(contours, key=cv2.contourArea)\n",
        "\n",
        "      # Находим прямоугольник, описывающий контур\n",
        "      rect = cv2.minAreaRect(largest_contour)\n",
        "      box = cv2.boxPoints(rect)\n",
        "      box = np.int0(box)\n",
        "\n",
        "      # Поворачиваем и наклоняем изображение для выравнивания номера\n",
        "      width, height = int(rect[1][0]), int(rect[1][1])\n",
        "      src_pts = box.astype(\"float32\")\n",
        "      dst_pts = np.array([[0, height-1], [0, 0], [width-1, 0], [width-1, height-1]], dtype=\"float32\")\n",
        "\n",
        "      # Получаем матрицу преобразования и применяем ее\n",
        "      M = cv2.getPerspectiveTransform(src_pts, dst_pts)\n",
        "      corrected_plate = cv2.warpPerspective(cropped_plate, M, (width, height))\n",
        "      if width < height:\n",
        "        corrected_plate = cv2.rotate(corrected_plate, cv2.ROTATE_90_CLOCKWISE)\n",
        "      if width != 250 and height != 65:\n",
        "        corrected_plate = cv2.resize(corrected_plate, (250, 65))\n",
        "      # Выводим изображение с выровненным номером\n",
        "      # cv2_imshow(corrected_plate)\n",
        "      cv2.imwrite(new_path, corrected_plate)\n",
        "      # cv2.waitKey(0)\n",
        "      # cv2.destroyAllWindows()\n",
        "  else:\n",
        "      print('Номер не обнаружен.')"
      ],
      "metadata": {
        "id": "-ZIoFku98bna"
      },
      "execution_count": null,
      "outputs": []
    },
    {
      "cell_type": "markdown",
      "source": [
        "# Разделение номера на основную часть и регион"
      ],
      "metadata": {
        "id": "jx-If8cDC5I8"
      }
    },
    {
      "cell_type": "code",
      "source": [
        "import cv2\n",
        "import numpy as np\n",
        "from google.colab.patches import cv2_imshow\n",
        "\n",
        "def split_plate(image_path):\n",
        "  # Загрузка изображения с выровненным номером\n",
        "  corrected_plate = cv2.imread(image_path)\n",
        "\n",
        "  # Получаем размеры изображения\n",
        "  height, width, _ = corrected_plate.shape\n",
        "\n",
        "  # Процентное соотношение разделения\n",
        "  percentage_split = 75.5\n",
        "  percentage_bottom_cut = 42\n",
        "\n",
        "  # Вычисляем границы разделения\n",
        "  split_point = int(width * (percentage_split / 100))\n",
        "\n",
        "  # Вырезаем и выводим две части\n",
        "  first_part = corrected_plate[:, :split_point]\n",
        "  second_part = corrected_plate[:, split_point:]\n",
        "\n",
        "  # Вычисляем высоту второй части\n",
        "  height_second_part = second_part.shape[0]\n",
        "\n",
        "  # Вычисляем количество пикселей, которые нужно обрезать снизу\n",
        "  cut_pixels = int(height_second_part * (percentage_bottom_cut / 100))\n",
        "\n",
        "  # Обрезаем 20% снизу от второй части\n",
        "  second_part_cropped = second_part[:-cut_pixels, :]\n",
        "\n",
        "  return first_part, second_part_cropped\n",
        "\n"
      ],
      "metadata": {
        "id": "ZEgaOFpRsNHK"
      },
      "execution_count": null,
      "outputs": []
    },
    {
      "cell_type": "markdown",
      "source": [
        "# Вычленение символов"
      ],
      "metadata": {
        "id": "3FHb70r3C-Tt"
      }
    },
    {
      "cell_type": "code",
      "source": [
        "import cv2\n",
        "import os\n",
        "import numpy as np\n",
        "\n",
        "# Функция для выделения символов на изображении\n",
        "def extract_characters(image):\n",
        "    # Преобразование в оттенки серого\n",
        "    gray = cv2.cvtColor(image, cv2.COLOR_BGR2GRAY)\n",
        "\n",
        "    # Применение адаптивной бинаризации для выделения символов\n",
        "    _, binary = cv2.threshold(gray, 0, 255, cv2.THRESH_BINARY_INV + cv2.THRESH_OTSU)\n",
        "\n",
        "    # Нахождение контуров символов\n",
        "    contours, _ = cv2.findContours(binary, cv2.RETR_EXTERNAL, cv2.CHAIN_APPROX_SIMPLE)\n",
        "\n",
        "    # Сортировка контуров по X-координате\n",
        "    contours = sorted(contours, key=lambda x: cv2.boundingRect(x)[0])\n",
        "\n",
        "    # Итерация по контурам и выделение каждого символа с белым фоном\n",
        "    characters = []\n",
        "    for contour in contours:\n",
        "        x, y, w, h = cv2.boundingRect(contour)\n",
        "\n",
        "        # Исключение слишком маленьких символов (можно настроить)\n",
        "        if w > 10 and h > 10:\n",
        "            # Вырезаем символ с добавлением белого фона\n",
        "            symbol_with_background = 255 * np.ones((h + 10, w + 10, 3), dtype=np.uint8)\n",
        "            symbol_with_background[5:5+h, 5:5+w, :] = image[y:y+h, x:x+w, :]\n",
        "\n",
        "            characters.append(symbol_with_background)\n",
        "\n",
        "    return characters\n",
        "\n",
        "\n",
        "def split_symbols(plate_path, first_path, second_path):\n",
        "\n",
        "  first_part, second_part_cropped = split_plate(plate_path)\n",
        "  # Выделение символов для первой и второй частей\n",
        "  characters_first_part = extract_characters(first_part)\n",
        "  characters_second_part = extract_characters(second_part_cropped)\n",
        "\n",
        "  save_path_first_part = first_path\n",
        "  save_path_second_part = second_path\n",
        "\n",
        "  # Создание папок, если они не существуют\n",
        "  os.makedirs(save_path_first_part, exist_ok=True)\n",
        "  os.makedirs(save_path_second_part, exist_ok=True)\n",
        "\n",
        "  # Сохранение изображений символов\n",
        "  for i, character in enumerate(characters_first_part, start=1):\n",
        "      save_filename = os.path.join(save_path_first_part, f\"character_{i}.png\")\n",
        "      cv2.imwrite(save_filename, character)\n",
        "\n",
        "  for i, character in enumerate(characters_second_part, start=1):\n",
        "      save_filename = os.path.join(save_path_second_part, f\"character_{i}.png\")\n",
        "      cv2.imwrite(save_filename, character)\n",
        "\n",
        "  cv2.destroyAllWindows()"
      ],
      "metadata": {
        "id": "DwHTuCcVz06X"
      },
      "execution_count": null,
      "outputs": []
    },
    {
      "cell_type": "markdown",
      "source": [
        "# Предсказания"
      ],
      "metadata": {
        "id": "3yPNlla6DKAP"
      }
    },
    {
      "cell_type": "code",
      "source": [
        "import numpy as np\n",
        "from PIL import Image\n",
        "\n",
        "def predict_image(image_path):\n",
        "    # Загрузка изображения и применение трансформаций\n",
        "    image = Image.open(image_path).convert('L')  # 'L' означает оттенки серого\n",
        "    transform = transforms.Compose([\n",
        "        transforms.Resize((55, 55)),\n",
        "        transforms.ToTensor(),\n",
        "    ])\n",
        "    image = transform(image).unsqueeze(0)  # Добавляем размерность батча\n",
        "\n",
        "    # Переводим модель в режим оценки (не обучения)\n",
        "    loaded_model.eval()\n",
        "\n",
        "    # Передаем изображение в модель для предсказания\n",
        "    with torch.no_grad():\n",
        "        output = loaded_model(image)\n",
        "\n",
        "    # Получаем предсказанный класс\n",
        "    _, predicted_class = torch.max(output, 1)\n",
        "\n",
        "    # Возвращаем название класса\n",
        "    predicted_class_name = idx_to_class[predicted_class.item()]\n",
        "\n",
        "    # Преобразуем тензор изображения обратно в изображение\n",
        "    image_np = np.array(image.squeeze(0).permute(1, 2, 0))\n",
        "    image_np = np.clip(image_np, 0, 1)  # Ограничиваем значения пикселей от 0 до 1\n",
        "    # Выводим изображение и результат\n",
        "    # plt.imshow(image_np, cmap='gray')\n",
        "    # plt.title(f'Predicted Class: {predicted_class_name}')\n",
        "    # plt.show()\n",
        "    if predicted_class_name == 'negative':\n",
        "      predicted_class_name = ''\n",
        "    return predicted_class_name\n",
        "\n",
        "# Пример использования\n",
        "# image_path = '/content/first_part/character_2.png'\n",
        "# predicted_class = predict_image(image_path)\n",
        "# print(f'The predicted class is: {predicted_class}')"
      ],
      "metadata": {
        "id": "lG4u7R2i6vW-"
      },
      "execution_count": null,
      "outputs": []
    },
    {
      "cell_type": "markdown",
      "source": [
        "# Соединяем всё вместе"
      ],
      "metadata": {
        "id": "ZyY1jptxJAJo"
      }
    },
    {
      "cell_type": "code",
      "source": [
        "#функция удаления файлов в папке\n",
        "def delete_files_in_folder(folder_path):\n",
        "    for filename in os.listdir(folder_path):\n",
        "        file_path = os.path.join(folder_path, filename)\n",
        "        try:\n",
        "            if os.path.isfile(file_path):\n",
        "                os.remove(file_path)\n",
        "        except Exception as e:\n",
        "            print(f'Ошибка при удалении файла {file_path}. {e}')"
      ],
      "metadata": {
        "id": "1d9IDZ-oTbQs"
      },
      "execution_count": null,
      "outputs": []
    },
    {
      "cell_type": "code",
      "source": [
        "def create_predictions(folder_path):\n",
        "  prediction = []\n",
        "  for filename in sorted(os.listdir(folder_path)):\n",
        "    image_path = os.path.join(folder_path, filename)\n",
        "    symbol = predict_image(image_path)\n",
        "    prediction.append(symbol)\n",
        "\n",
        "  return prediction"
      ],
      "metadata": {
        "id": "6jrZnlUzNU8S"
      },
      "execution_count": null,
      "outputs": []
    },
    {
      "cell_type": "markdown",
      "source": [],
      "metadata": {
        "id": "kKcwVgr1RqJP"
      }
    },
    {
      "cell_type": "code",
      "source": [
        "new_path = '/content/corrected_plate.jpg'\n",
        "image_path = '/content/car3.jpg'\n",
        "first_path = '/content/first_part'\n",
        "second_path = '/content/second_part'\n",
        "\n",
        "\n",
        "detecting_plate(image_path, new_path)\n",
        "split_symbols(new_path, first_path, second_path)\n",
        "left = create_predictions(first_path)\n",
        "left.pop(0)\n",
        "right = create_predictions(second_path)\n",
        "\n",
        "delete_files_in_folder(first_path)\n",
        "delete_files_in_folder(second_path)\n",
        "\n",
        "description = left + right\n",
        "plate_is = ''.join(description)\n",
        "print(plate_is)"
      ],
      "metadata": {
        "id": "XTpGyq9xI_lL"
      },
      "execution_count": null,
      "outputs": []
    }
  ],
  "metadata": {
    "colab": {
      "provenance": [],
      "include_colab_link": true
    },
    "kernelspec": {
      "display_name": "Python 3",
      "name": "python3"
    },
    "language_info": {
      "name": "python"
    }
  },
  "nbformat": 4,
  "nbformat_minor": 0
}